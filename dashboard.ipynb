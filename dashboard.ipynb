{
 "cells": [
  {
   "cell_type": "code",
   "execution_count": 1,
   "id": "99949a4a-ca7f-46ae-9f42-936be3ded8b4",
   "metadata": {},
   "outputs": [
    {
     "data": {
      "application/vnd.jupyter.widget-view+json": {
       "model_id": "bf811e3606fe45f38fcdbf41f29eb0d2",
       "version_major": 2,
       "version_minor": 0
      },
      "text/plain": []
     },
     "metadata": {},
     "output_type": "display_data"
    },
    {
     "name": "stderr",
     "output_type": "stream",
     "text": [
      "/Users/arav/anaconda3/lib/python3.10/site-packages/Bio/PDB/StructureBuilder.py:89: PDBConstructionWarning: WARNING: Chain A is discontinuous at line 12059.\n",
      "  warnings.warn(\n"
     ]
    }
   ],
   "source": [
    "from Bio.PDB import PDBParser\n",
    "import nglview as nv\n",
    "import ipywidgets as widgets\n",
    "import urllib.request\n",
    "\n",
    "\n",
    "\n",
    "# Define the PDB file path and download the PDB file\n",
    "pdb_id = \"6YYT\"\n",
    "url = f\"https://files.rcsb.org/download/{pdb_id}.pdb\"\n",
    "file_path = f\"{pdb_id}.pdb\"\n",
    "urllib.request.urlretrieve(url, file_path)\n",
    "\n",
    "\n",
    "# Reading the PDB file\n",
    "parser = PDBParser()\n",
    "structure = parser.get_structure(pdb_id, file_path)\n",
    "\n"
   ]
  },
  {
   "cell_type": "code",
   "execution_count": 2,
   "id": "6eb10ec6-f840-4470-86f1-53db5acf86d7",
   "metadata": {},
   "outputs": [
    {
     "data": {
      "application/vnd.jupyter.widget-view+json": {
       "model_id": "6dcb1333fb86435a8e1ae3020eed0d71",
       "version_major": 2,
       "version_minor": 0
      },
      "text/plain": [
       "NGLWidget()"
      ]
     },
     "metadata": {},
     "output_type": "display_data"
    },
    {
     "data": {
      "application/vnd.jupyter.widget-view+json": {
       "model_id": "955eaca4311640158778f0dec31624f6",
       "version_major": 2,
       "version_minor": 0
      },
      "text/plain": [
       "Tab(children=(Box(children=(Box(children=(Box(children=(Label(value='step'), IntSlider(value=1, min=-100)), la…"
      ]
     },
     "metadata": {},
     "output_type": "display_data"
    }
   ],
   "source": [
    "import nglview as nv\n",
    "from IPython.display import display\n",
    "\n",
    "# Display the widget as usual\n",
    "view = nv.show_biopython(structure, gui=True)\n",
    "display(view)\n",
    "\n",
    "# Save the widget state in the notebook\n",
    "import ipywidgets as widgets\n",
    "widgets.embed.embed_minimal_html('export.html', views=[view], title='Viewer Example')\n"
   ]
  },
  {
   "cell_type": "code",
   "execution_count": null,
   "id": "5deadae1-f03c-4f61-ac67-a3037c343575",
   "metadata": {},
   "outputs": [],
   "source": []
  }
 ],
 "metadata": {
  "kernelspec": {
   "display_name": "Python 3 (ipykernel)",
   "language": "python",
   "name": "python3"
  },
  "language_info": {
   "codemirror_mode": {
    "name": "ipython",
    "version": 3
   },
   "file_extension": ".py",
   "mimetype": "text/x-python",
   "name": "python",
   "nbconvert_exporter": "python",
   "pygments_lexer": "ipython3",
   "version": "3.10.9"
  }
 },
 "nbformat": 4,
 "nbformat_minor": 5
}
